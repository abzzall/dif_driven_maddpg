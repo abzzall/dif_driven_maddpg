{
 "cells": [
  {
   "cell_type": "code",
   "id": "initial_id",
   "metadata": {
    "collapsed": true,
    "ExecuteTime": {
     "end_time": "2025-05-24T07:16:09.062972Z",
     "start_time": "2025-05-24T07:15:37.108925Z"
    }
   },
   "source": [
    "from marllib.envs.base_env import ENV_REGISTRY\n",
    "from custom_envs.diff_driven.gym_env.centered_paralelenv.env import DiffDriveEnv\n",
    "\n",
    "class DiffDriveEnvWrapper(DiffDriveEnv):\n",
    "    def __init__(self, env_config):\n",
    "        super().__init__()\n",
    "\n",
    "ENV_REGISTRY[\"diffdrive_custom\"] = {\n",
    "    \"env_class\": DiffDriveEnvWrapper,\n",
    "    \"type\": \"parallel\",  # since you're using ParallelEnv\n",
    "    \"import_path\": \"custom_envs.diff_driven.gym_env.centered_paralelenv.env\"\n",
    "}"
   ],
   "outputs": [],
   "execution_count": 1
  },
  {
   "metadata": {
    "ExecuteTime": {
     "end_time": "2025-05-24T07:16:19.753475Z",
     "start_time": "2025-05-24T07:16:17.587744Z"
    }
   },
   "cell_type": "code",
   "source": [
    "from marllib.marl.algos.maddpg import config as maddpg_config\n",
    "from marllib.marl.algos.core.MADDPG.maddpg import MADDPG\n",
    "\n",
    "env_config = {\n",
    "    \"env\": \"diffdrive_custom\",\n",
    "    \"scenario\": \"none\",  # Not required for custom envs\n",
    "    \"agent_conf\": \"shared\",      # shared actor/critic\n",
    "    \"agent_obsk\": 0,             # use full obs per agent\n",
    "    \"policy_mapping_info\": {\n",
    "        \"all_scenario\": {\n",
    "            \"description\": \"shared policy for all agents\",\n",
    "            \"team_prefix\": (\"agent\",),\n",
    "            \"all_agents_share_policy\": True,\n",
    "        }\n",
    "    }\n",
    "}\n",
    "\n",
    "algo_config = maddpg_config.get_marl_config(\"maddpg\", env_config)\n",
    "algo_config[\"env_config\"] = env_config\n",
    "algo_config[\"framework\"] = \"torch\"\n",
    "algo_config[\"train_batch_size\"] = 1024\n",
    "algo_config[\"rollout_fragment_length\"] = 100\n",
    "algo_config[\"batch_mode\"] = \"truncate_episodes\""
   ],
   "id": "be1bf625de21ee6",
   "outputs": [
    {
     "ename": "ModuleNotFoundError",
     "evalue": "No module named 'marllib.marl.algos.maddpg'",
     "output_type": "error",
     "traceback": [
      "\u001B[1;31m---------------------------------------------------------------------------\u001B[0m",
      "\u001B[1;31mModuleNotFoundError\u001B[0m                       Traceback (most recent call last)",
      "Cell \u001B[1;32mIn[2], line 1\u001B[0m\n\u001B[1;32m----> 1\u001B[0m \u001B[38;5;28;01mfrom\u001B[39;00m\u001B[38;5;250m \u001B[39m\u001B[38;5;21;01mmarllib\u001B[39;00m\u001B[38;5;21;01m.\u001B[39;00m\u001B[38;5;21;01mmarl\u001B[39;00m\u001B[38;5;21;01m.\u001B[39;00m\u001B[38;5;21;01malgos\u001B[39;00m\u001B[38;5;21;01m.\u001B[39;00m\u001B[38;5;21;01mmaddpg\u001B[39;00m\u001B[38;5;250m \u001B[39m\u001B[38;5;28;01mimport\u001B[39;00m config \u001B[38;5;28;01mas\u001B[39;00m maddpg_config\n\u001B[0;32m      2\u001B[0m \u001B[38;5;28;01mfrom\u001B[39;00m\u001B[38;5;250m \u001B[39m\u001B[38;5;21;01mmarllib\u001B[39;00m\u001B[38;5;21;01m.\u001B[39;00m\u001B[38;5;21;01mmarl\u001B[39;00m\u001B[38;5;21;01m.\u001B[39;00m\u001B[38;5;21;01malgos\u001B[39;00m\u001B[38;5;21;01m.\u001B[39;00m\u001B[38;5;21;01mcore\u001B[39;00m\u001B[38;5;21;01m.\u001B[39;00m\u001B[38;5;21;01mMADDPG\u001B[39;00m\u001B[38;5;21;01m.\u001B[39;00m\u001B[38;5;21;01mmaddpg\u001B[39;00m\u001B[38;5;250m \u001B[39m\u001B[38;5;28;01mimport\u001B[39;00m MADDPG\n\u001B[0;32m      4\u001B[0m env_config \u001B[38;5;241m=\u001B[39m {\n\u001B[0;32m      5\u001B[0m     \u001B[38;5;124m\"\u001B[39m\u001B[38;5;124menv\u001B[39m\u001B[38;5;124m\"\u001B[39m: \u001B[38;5;124m\"\u001B[39m\u001B[38;5;124mdiffdrive_custom\u001B[39m\u001B[38;5;124m\"\u001B[39m,\n\u001B[0;32m      6\u001B[0m     \u001B[38;5;124m\"\u001B[39m\u001B[38;5;124mscenario\u001B[39m\u001B[38;5;124m\"\u001B[39m: \u001B[38;5;124m\"\u001B[39m\u001B[38;5;124mnone\u001B[39m\u001B[38;5;124m\"\u001B[39m,  \u001B[38;5;66;03m# Not required for custom envs\u001B[39;00m\n\u001B[1;32m   (...)\u001B[0m\n\u001B[0;32m     15\u001B[0m     }\n\u001B[0;32m     16\u001B[0m }\n",
      "\u001B[1;31mModuleNotFoundError\u001B[0m: No module named 'marllib.marl.algos.maddpg'"
     ]
    }
   ],
   "execution_count": 2
  },
  {
   "metadata": {
    "ExecuteTime": {
     "start_time": "2025-05-21T09:27:02.143908Z"
    }
   },
   "cell_type": "code",
   "source": "",
   "id": "9ae185fa1e257fd6",
   "outputs": [
    {
     "name": "stdout",
     "output_type": "stream",
     "text": [
      "1.9.0+cpu\n"
     ]
    }
   ],
   "execution_count": 1
  }
 ],
 "metadata": {
  "kernelspec": {
   "display_name": "Python 3",
   "language": "python",
   "name": "python3"
  },
  "language_info": {
   "codemirror_mode": {
    "name": "ipython",
    "version": 2
   },
   "file_extension": ".py",
   "mimetype": "text/x-python",
   "name": "python",
   "nbconvert_exporter": "python",
   "pygments_lexer": "ipython2",
   "version": "2.7.6"
  }
 },
 "nbformat": 4,
 "nbformat_minor": 5
}
