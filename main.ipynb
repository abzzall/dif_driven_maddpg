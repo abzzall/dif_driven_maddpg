{
 "cells": [
  {
   "cell_type": "code",
   "id": "initial_id",
   "metadata": {
    "collapsed": true,
    "ExecuteTime": {
     "end_time": "2025-07-08T09:14:19.873631Z",
     "start_time": "2025-07-08T09:14:13.261763Z"
    }
   },
   "source": [
    "from rl.maddpg import *\n",
    "from custom_envs.diff_driven.gym_env.centered_paralelenv import *\n"
   ],
   "outputs": [],
   "execution_count": 1
  },
  {
   "metadata": {
    "ExecuteTime": {
     "end_time": "2025-07-08T09:14:20.017217Z",
     "start_time": "2025-07-08T09:14:19.911640Z"
    }
   },
   "cell_type": "code",
   "source": "env=DiffDriveParallelEnv()",
   "id": "eca06f4a4d1d2585",
   "outputs": [],
   "execution_count": 2
  },
  {
   "metadata": {
    "ExecuteTime": {
     "end_time": "2025-07-08T09:14:23.932984Z",
     "start_time": "2025-07-08T09:14:21.062806Z"
    }
   },
   "cell_type": "code",
   "source": "maddpg=MADDPGSharedActorCritic(env)",
   "id": "eae8d8c4267323a2",
   "outputs": [],
   "execution_count": 3
  },
  {
   "metadata": {
    "jupyter": {
     "is_executing": true
    },
    "ExecuteTime": {
     "start_time": "2025-07-08T09:14:23.986484Z"
    }
   },
   "cell_type": "code",
   "source": "maddpg.train_loop()",
   "id": "b509fdf0044b725c",
   "outputs": [
    {
     "name": "stdout",
     "output_type": "stream",
     "text": [
      "Checkpoint loaded from shared_actor.pth\n",
      "Checkpoint loaded from shared_critic.pth\n",
      "Checkpoint loaded from shared_critic_target.pth\n",
      "Checkpoint loaded from shared_actor_target.pth\n",
      "Resuming from episode 39\n",
      "memory not ready, current size = 19600/100000\n",
      "memory not ready, current size = 19700/100000\n",
      "memory not ready, current size = 19800/100000\n",
      "memory not ready, current size = 19900/100000\n",
      "memory not ready, current size = 20000/100000\n",
      "Episode 39, Score: -1704.14, Avg Score: -1671.26\n",
      "memory not ready, current size = 20100/100000\n",
      "memory not ready, current size = 20200/100000\n",
      "memory not ready, current size = 20300/100000\n",
      "memory not ready, current size = 20400/100000\n",
      "memory not ready, current size = 20500/100000\n",
      "Episode 40, Score: -1823.15, Avg Score: -1674.96\n",
      "Training progress saved.\n",
      "memory not ready, current size = 20600/100000\n",
      "memory not ready, current size = 20700/100000\n",
      "memory not ready, current size = 20800/100000\n",
      "memory not ready, current size = 20900/100000\n",
      "memory not ready, current size = 21000/100000\n",
      "Episode 41, Score: -1795.12, Avg Score: -1677.82\n",
      "memory not ready, current size = 21100/100000\n",
      "memory not ready, current size = 21200/100000\n",
      "memory not ready, current size = 21300/100000\n",
      "memory not ready, current size = 21400/100000\n",
      "memory not ready, current size = 21500/100000\n",
      "Episode 42, Score: -2198.76, Avg Score: -1689.94\n",
      "memory not ready, current size = 21600/100000\n",
      "memory not ready, current size = 21700/100000\n",
      "memory not ready, current size = 21800/100000\n",
      "memory not ready, current size = 21900/100000\n",
      "memory not ready, current size = 22000/100000\n",
      "Episode 43, Score: -1753.93, Avg Score: -1691.39\n",
      "memory not ready, current size = 22100/100000\n",
      "memory not ready, current size = 22200/100000\n",
      "memory not ready, current size = 22300/100000\n",
      "memory not ready, current size = 22400/100000\n",
      "memory not ready, current size = 22500/100000\n",
      "Episode 44, Score: -1591.11, Avg Score: -1689.16\n",
      "memory not ready, current size = 22600/100000\n",
      "memory not ready, current size = 22700/100000\n",
      "memory not ready, current size = 22800/100000\n",
      "memory not ready, current size = 22900/100000\n",
      "memory not ready, current size = 23000/100000\n",
      "Episode 45, Score: -1251.56, Avg Score: -1679.65\n",
      "Training progress saved.\n",
      "memory not ready, current size = 23100/100000\n",
      "memory not ready, current size = 23200/100000\n",
      "memory not ready, current size = 23300/100000\n",
      "memory not ready, current size = 23400/100000\n",
      "memory not ready, current size = 23500/100000\n",
      "Episode 46, Score: -2037.19, Avg Score: -1687.26\n",
      "memory not ready, current size = 23600/100000\n",
      "memory not ready, current size = 23700/100000\n",
      "memory not ready, current size = 23800/100000\n",
      "memory not ready, current size = 23900/100000\n",
      "memory not ready, current size = 24000/100000\n",
      "Episode 47, Score: -1700.74, Avg Score: -1687.54\n",
      "memory not ready, current size = 24100/100000\n",
      "memory not ready, current size = 24200/100000\n",
      "memory not ready, current size = 24300/100000\n",
      "memory not ready, current size = 24400/100000\n",
      "memory not ready, current size = 24500/100000\n",
      "Episode 48, Score: -1476.01, Avg Score: -1683.22\n",
      "memory not ready, current size = 24600/100000\n",
      "memory not ready, current size = 24700/100000\n",
      "memory not ready, current size = 24800/100000\n",
      "memory not ready, current size = 24900/100000\n",
      "memory not ready, current size = 25000/100000\n",
      "Episode 49, Score: -1528.81, Avg Score: -1680.13\n",
      "memory not ready, current size = 25100/100000\n",
      "memory not ready, current size = 25200/100000\n",
      "memory not ready, current size = 25300/100000\n",
      "memory not ready, current size = 25400/100000\n",
      "memory not ready, current size = 25500/100000\n",
      "Episode 50, Score: -1476.22, Avg Score: -1676.14\n",
      "Training progress saved.\n",
      "memory not ready, current size = 25600/100000\n",
      "memory not ready, current size = 25700/100000\n",
      "memory not ready, current size = 25800/100000\n",
      "memory not ready, current size = 25900/100000\n",
      "memory not ready, current size = 26000/100000\n",
      "Episode 51, Score: -1324.40, Avg Score: -1669.37\n",
      "memory not ready, current size = 26100/100000\n",
      "memory not ready, current size = 26200/100000\n",
      "memory not ready, current size = 26300/100000\n",
      "memory not ready, current size = 26400/100000\n",
      "memory not ready, current size = 26500/100000\n",
      "Episode 52, Score: -1589.49, Avg Score: -1667.86\n"
     ]
    }
   ],
   "execution_count": null
  },
  {
   "metadata": {},
   "cell_type": "code",
   "outputs": [],
   "execution_count": null,
   "source": "",
   "id": "b355ae4a1a5b4b8b"
  }
 ],
 "metadata": {
  "kernelspec": {
   "display_name": "Python 3",
   "language": "python",
   "name": "python3"
  },
  "language_info": {
   "codemirror_mode": {
    "name": "ipython",
    "version": 2
   },
   "file_extension": ".py",
   "mimetype": "text/x-python",
   "name": "python",
   "nbconvert_exporter": "python",
   "pygments_lexer": "ipython2",
   "version": "2.7.6"
  }
 },
 "nbformat": 4,
 "nbformat_minor": 5
}
