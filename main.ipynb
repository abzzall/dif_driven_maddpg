{
 "cells": [
  {
   "cell_type": "code",
   "id": "initial_id",
   "metadata": {
    "collapsed": true,
    "ExecuteTime": {
     "end_time": "2025-05-21T06:44:22.307453Z",
     "start_time": "2025-05-21T06:44:01.137053Z"
    }
   },
   "source": [
    "from ray.tune.registry import register_env\n",
    "from custom_envs.diff_driven.gym_env.centered_gym_env.env import DiffDriveEnv\n",
    "\n",
    "def env_creator(config):\n",
    "    return DiffDriveEnv()\n",
    "\n",
    "register_env(\"diffdrive_env\", env_creator)\n"
   ],
   "outputs": [
    {
     "name": "stderr",
     "output_type": "stream",
     "text": [
      "2025-05-21 11:44:02,162\tINFO util.py:154 -- Missing packages: ['ipywidgets']. Run `pip install -U ipywidgets`, then restart the notebook server for rich notebook output.\n",
      "2025-05-21 11:44:04,330\tINFO util.py:154 -- Missing packages: ['ipywidgets']. Run `pip install -U ipywidgets`, then restart the notebook server for rich notebook output.\n"
     ]
    }
   ],
   "execution_count": 1
  },
  {
   "metadata": {
    "ExecuteTime": {
     "end_time": "2025-05-21T06:45:27.850752Z",
     "start_time": "2025-05-21T06:45:19.886295Z"
    }
   },
   "cell_type": "code",
   "source": [
    "from ray.rllib.algorithms.maddpg import MADDPGConfig\n",
    "from custom_envs.diff_driven.gym_env.centered_gym_env.config import NUM_AGENTS\n",
    "from ray import rllib\n",
    "\n",
    "env = DiffDriveEnv()\n",
    "obs_space = env.observation_space\n",
    "act_space = env.action_space\n",
    "\n",
    "config = (\n",
    "    MADDPGConfig()\n",
    "    .environment(\"diffdrive_env\", env_config={})\n",
    "    .rollouts(num_rollout_workers=0)\n",
    "    .multi_agent(\n",
    "        policies={f\"agent_{i}\": (None, obs_space, act_space, {}) for i in range(NUM_AGENTS)},\n",
    "        policy_mapping_fn=lambda agent_id, *args: agent_id,\n",
    "        policies_to_train=[f\"agent_{i}\" for i in range(NUM_AGENTS)]\n",
    "    )\n",
    "    .framework(\"torch\")\n",
    "    .resources(num_gpus=1)  # ✅ Force full GPU use\n",
    "    .training(\n",
    "        actor_lr=1e-3,\n",
    "        critic_lr=1e-3,\n",
    "        train_batch_size=1024,\n",
    "        tau=0.01,\n",
    "        gamma=0.95,\n",
    "        use_local_critic=True\n",
    "    )\n",
    ")\n"
   ],
   "id": "eca06f4a4d1d2585",
   "outputs": [
    {
     "ename": "ModuleNotFoundError",
     "evalue": "No module named 'ray.rllib.algorithms.maddpg'",
     "output_type": "error",
     "traceback": [
      "\u001B[1;31m---------------------------------------------------------------------------\u001B[0m",
      "\u001B[1;31mModuleNotFoundError\u001B[0m                       Traceback (most recent call last)",
      "Cell \u001B[1;32mIn[2], line 1\u001B[0m\n\u001B[1;32m----> 1\u001B[0m \u001B[38;5;28;01mfrom\u001B[39;00m\u001B[38;5;250m \u001B[39m\u001B[38;5;21;01mray\u001B[39;00m\u001B[38;5;21;01m.\u001B[39;00m\u001B[38;5;21;01mrllib\u001B[39;00m\u001B[38;5;21;01m.\u001B[39;00m\u001B[38;5;21;01malgorithms\u001B[39;00m\u001B[38;5;21;01m.\u001B[39;00m\u001B[38;5;21;01mmaddpg\u001B[39;00m\u001B[38;5;250m \u001B[39m\u001B[38;5;28;01mimport\u001B[39;00m MADDPGConfig\n\u001B[0;32m      2\u001B[0m \u001B[38;5;28;01mfrom\u001B[39;00m\u001B[38;5;250m \u001B[39m\u001B[38;5;21;01mcustom_envs\u001B[39;00m\u001B[38;5;21;01m.\u001B[39;00m\u001B[38;5;21;01mdiff_driven\u001B[39;00m\u001B[38;5;21;01m.\u001B[39;00m\u001B[38;5;21;01mgym_env\u001B[39;00m\u001B[38;5;21;01m.\u001B[39;00m\u001B[38;5;21;01mcentered_gym_env\u001B[39;00m\u001B[38;5;21;01m.\u001B[39;00m\u001B[38;5;21;01mconfig\u001B[39;00m\u001B[38;5;250m \u001B[39m\u001B[38;5;28;01mimport\u001B[39;00m NUM_AGENTS\n\u001B[0;32m      3\u001B[0m \u001B[38;5;28;01mfrom\u001B[39;00m\u001B[38;5;250m \u001B[39m\u001B[38;5;21;01mray\u001B[39;00m\u001B[38;5;250m \u001B[39m\u001B[38;5;28;01mimport\u001B[39;00m rllib\n",
      "\u001B[1;31mModuleNotFoundError\u001B[0m: No module named 'ray.rllib.algorithms.maddpg'"
     ]
    }
   ],
   "execution_count": 2
  },
  {
   "metadata": {},
   "cell_type": "code",
   "outputs": [],
   "execution_count": null,
   "source": "",
   "id": "eae8d8c4267323a2"
  }
 ],
 "metadata": {
  "kernelspec": {
   "display_name": "Python 3",
   "language": "python",
   "name": "python3"
  },
  "language_info": {
   "codemirror_mode": {
    "name": "ipython",
    "version": 2
   },
   "file_extension": ".py",
   "mimetype": "text/x-python",
   "name": "python",
   "nbconvert_exporter": "python",
   "pygments_lexer": "ipython2",
   "version": "2.7.6"
  }
 },
 "nbformat": 4,
 "nbformat_minor": 5
}
