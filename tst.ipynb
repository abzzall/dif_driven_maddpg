{
 "cells": [
  {
   "cell_type": "code",
   "id": "initial_id",
   "metadata": {
    "collapsed": true,
    "ExecuteTime": {
     "end_time": "2025-05-24T07:45:54.059390Z",
     "start_time": "2025-05-24T07:45:50.543053Z"
    }
   },
   "source": [
    "# marllib/envs/custom/diffdrive_env.py\n",
    "\n",
    "from custom_envs.diff_driven.gym_env.centered_paralelenv.env import DiffDriveEnv\n",
    "\n",
    "def env_creator(args=None):\n",
    "    return DiffDriveEnv()\n",
    "\n",
    "env = {\n",
    "    \"name\": \"diffdrive_custom\",\n",
    "    \"env_creator\": env_creator,\n",
    "    \"env_type\": \"mpe\",  # This is needed to support PettingZoo ParallelEnv\n",
    "}\n"
   ],
   "outputs": [],
   "execution_count": 1
  },
  {
   "metadata": {
    "ExecuteTime": {
     "end_time": "2025-05-24T07:46:17.033799Z",
     "start_time": "2025-05-24T07:46:16.475227Z"
    }
   },
   "cell_type": "code",
   "source": [
    "# In marllib/envs/__init__.py\n",
    "\n",
    "from marllib.envs.custom import diffdrive_env\n",
    "env_registry[\"diffdrive_custom\"] = diffdrive_env\n"
   ],
   "id": "c9f4c6b63d8e2273",
   "outputs": [
    {
     "ename": "ModuleNotFoundError",
     "evalue": "No module named 'marllib.envs.custom'",
     "output_type": "error",
     "traceback": [
      "\u001B[1;31m---------------------------------------------------------------------------\u001B[0m",
      "\u001B[1;31mModuleNotFoundError\u001B[0m                       Traceback (most recent call last)",
      "Cell \u001B[1;32mIn[2], line 3\u001B[0m\n\u001B[0;32m      1\u001B[0m \u001B[38;5;66;03m# In marllib/envs/__init__.py\u001B[39;00m\n\u001B[1;32m----> 3\u001B[0m \u001B[38;5;28;01mfrom\u001B[39;00m\u001B[38;5;250m \u001B[39m\u001B[38;5;21;01mmarllib\u001B[39;00m\u001B[38;5;21;01m.\u001B[39;00m\u001B[38;5;21;01menvs\u001B[39;00m\u001B[38;5;21;01m.\u001B[39;00m\u001B[38;5;21;01mcustom\u001B[39;00m\u001B[38;5;250m \u001B[39m\u001B[38;5;28;01mimport\u001B[39;00m diffdrive_env\n\u001B[0;32m      4\u001B[0m env_registry[\u001B[38;5;124m\"\u001B[39m\u001B[38;5;124mdiffdrive_custom\u001B[39m\u001B[38;5;124m\"\u001B[39m] \u001B[38;5;241m=\u001B[39m diffdrive_env\n",
      "\u001B[1;31mModuleNotFoundError\u001B[0m: No module named 'marllib.envs.custom'"
     ]
    }
   ],
   "execution_count": 2
  },
  {
   "metadata": {},
   "cell_type": "code",
   "outputs": [],
   "execution_count": null,
   "source": "",
   "id": "77cd021865571938"
  }
 ],
 "metadata": {
  "kernelspec": {
   "display_name": "Python 3",
   "language": "python",
   "name": "python3"
  },
  "language_info": {
   "codemirror_mode": {
    "name": "ipython",
    "version": 2
   },
   "file_extension": ".py",
   "mimetype": "text/x-python",
   "name": "python",
   "nbconvert_exporter": "python",
   "pygments_lexer": "ipython2",
   "version": "2.7.6"
  }
 },
 "nbformat": 4,
 "nbformat_minor": 5
}
